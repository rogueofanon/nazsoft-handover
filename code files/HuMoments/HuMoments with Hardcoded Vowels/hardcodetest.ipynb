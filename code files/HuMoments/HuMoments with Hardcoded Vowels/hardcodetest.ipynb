{
 "cells": [
  {
   "cell_type": "code",
   "execution_count": 1,
   "metadata": {},
   "outputs": [],
   "source": [
    "import cv2\n",
    "from matplotlib import pyplot as plt\n",
    "import math\n",
    "import numpy as np\n",
    "import glob"
   ]
  },
  {
   "cell_type": "code",
   "execution_count": 2,
   "metadata": {},
   "outputs": [],
   "source": [
    "def display_image(img, title=\"image\"):\n",
    "    if len(img.shape) == 2:\n",
    "        plt.imshow(img, cmap='gray')\n",
    "    else:\n",
    "        plt.imshow(cv2.cvtColor(img, cv2.COLOR_BGR2RGB))\n",
    "    plt.title(title)\n",
    "    plt.axis('off')\n",
    "    plt.show()"
   ]
  },
  {
   "cell_type": "code",
   "execution_count": 2,
   "metadata": {},
   "outputs": [],
   "source": [
    "def merge_boxes(boxes, distance_threshold=10):\n",
    "    \"\"\"\n",
    "    A function that merges bounding boxes that are `distance_threshold` away from each other.\n",
    "    \"\"\"\n",
    "    merged_boxes = []\n",
    "    for box in boxes:\n",
    "        merged = False\n",
    "        for i in range(len(merged_boxes)):\n",
    "            x1,y1,w1,h1 = merged_boxes[i]\n",
    "            x2,y2,w2,h2 = box\n",
    "            if (abs(x1-x2) < distance_threshold and abs(y1-y2) < distance_threshold):\n",
    "                new_x = min(x1, x2)\n",
    "                new_y = min(y1, y2)\n",
    "                new_w = max(x1+w1, x2+w2) - new_x\n",
    "                new_h = max(y1+h1, y2+h2) - new_y\n",
    "                merged_boxes[i] = (new_x, new_y, new_w, new_h)\n",
    "                merged = True\n",
    "                break\n",
    "        if not merged:\n",
    "            merged_boxes.append(box)\n",
    "\n",
    "    return merged_boxes"
   ]
  },
  {
   "cell_type": "code",
   "execution_count": 3,
   "metadata": {},
   "outputs": [],
   "source": [
    "def calculate_huMoments(image):\n",
    "    \"\"\"\n",
    "    A helper function to calculate the huMoments.\n",
    "    \"\"\"\n",
    "    moments = cv2.moments(image)\n",
    "    hu_moments = cv2.HuMoments(moments).flatten()\n",
    "    #Log transform the HuMoments\n",
    "    for i in range(0,7):\n",
    "        if hu_moments[i] == 0:\n",
    "            hu_moments[i] = 0\n",
    "        else:\n",
    "            hu_moments[i] = -1* math.copysign(1.0, hu_moments[i]) * math.log10(abs(hu_moments[i]))\n",
    "    return hu_moments\n"
   ]
  },
  {
   "cell_type": "code",
   "execution_count": 4,
   "metadata": {},
   "outputs": [],
   "source": [
    "def compare_hu_moments(hu1, hu2):\n",
    "    \"\"\"\n",
    "    A simple function that returns the norm of two hu moments to compare them.\n",
    "    \"\"\"\n",
    "    return np.linalg.norm(hu1 - hu2)"
   ]
  },
  {
   "cell_type": "code",
   "execution_count": 5,
   "metadata": {},
   "outputs": [
    {
     "name": "stdout",
     "output_type": "stream",
     "text": [
      "Calculating moments for  vow_0.png\n",
      "Calculating moments for  vow_1.png\n",
      "Calculating moments for  vow_2.png\n",
      "Calculating moments for  vow_3.png\n",
      "Calculating moments for  vow_4.png\n",
      "Stored Hu Moments for each vowel:\n",
      "u: [  2.72188446   8.18757784   9.72429366   9.688771   -19.39955567\n",
      "  14.41302354 -20.25148864]\n",
      "o: [ 2.48906438  5.00107858  8.53739319  8.53739319 17.07478639 11.03793249\n",
      "  0.        ]\n",
      "i: [  2.77711869   7.62039712  13.77135519  14.68900658  29.04130549\n",
      " -18.50974851 -29.10237975]\n",
      "e: [  2.85037687   7.48618296  10.22105218  10.4602303  -21.51581484\n",
      " -14.49127098  20.80909521]\n",
      "a: [  2.85719913   7.11307226   9.81369176  10.64136078 -20.88589308\n",
      " -14.26288285 -21.43041036]\n"
     ]
    }
   ],
   "source": [
    "#Getting HuMoments of all images\n",
    "\n",
    "vowel_huMoments = {}\n",
    "vow_moments = []\n",
    "images = glob.glob(\"vow*.png\")\n",
    "images.sort()\n",
    "\n",
    "vowels = [\"u\", \"o\", \"i\", \"e\", \"a\"]\n",
    "\n",
    "for vowel, image in zip(vowels, images):\n",
    "    print(\"Calculating moments for \", image)\n",
    "    im = cv2.imread(image)\n",
    "    gray = cv2.cvtColor(im, cv2.COLOR_BGR2GRAY)\n",
    "    _, binary = cv2.threshold(gray, 0, 255, cv2.THRESH_BINARY + cv2.THRESH_OTSU)\n",
    "    inverted = cv2.bitwise_not(binary)\n",
    "\n",
    "    hu_moments = calculate_huMoments(inverted)\n",
    "    vowel_huMoments[vowel] = hu_moments\n",
    "\n",
    "print(\"Stored Hu Moments for each vowel:\")\n",
    "for vowel, moments in vowel_huMoments.items():\n",
    "    print(f\"{vowel}: {moments}\")"
   ]
  },
  {
   "cell_type": "code",
   "execution_count": 37,
   "metadata": {},
   "outputs": [
    {
     "name": "stdout",
     "output_type": "stream",
     "text": [
      "The new glyph is closest to the vowel: a\n"
     ]
    }
   ],
   "source": [
    "new_glyph = cv2.imread(\"new_glyph.jpg\")\n",
    "gray = cv2.cvtColor(new_glyph, cv2.COLOR_BGR2GRAY)\n",
    "_, binary = cv2.threshold(gray, 0, 255, cv2.THRESH_BINARY + cv2.THRESH_OTSU)\n",
    "inverted = cv2.bitwise_not(binary)\n",
    "\n",
    "new_huMoments = calculate_huMoments(inverted)\n",
    "\n",
    "best_match = None\n",
    "min_distance = float('inf')\n",
    "\n",
    "for vowel, hu_moments in vowel_huMoments.items():\n",
    "    distance = compare_hu_moments(new_huMoments, hu_moments)\n",
    "    if distance < min_distance:\n",
    "        min_distance = distance\n",
    "        best_match = vowel\n",
    "\n",
    "print(f\"The new glyph is closest to the vowel: {best_match}\")"
   ]
  },
  {
   "cell_type": "markdown",
   "metadata": {},
   "source": [
    "---"
   ]
  },
  {
   "cell_type": "code",
   "execution_count": 110,
   "metadata": {},
   "outputs": [
    {
     "data": {
      "image/png": "[encoded data removed]",
      "text/plain": [
       "<Figure size 640x480 with 1 Axes>"
      ]
     },
     "metadata": {},
     "output_type": "display_data"
    },
    {
     "name": "stdout",
     "output_type": "stream",
     "text": [
      "The distance between u and the glyph is 0.5985650517326216.\n",
      "The distance between o and the glyph is 0.21942349246277737.\n",
      "The distance between i and the glyph is 1.456269246009837.\n",
      "The distance between e and the glyph is 0.4531127219337774.\n",
      "The distance between a and the glyph is 0.9163238623603005.\n",
      "\n",
      "The new glyph is closest to the vowel: o.\n"
     ]
    }
   ],
   "source": [
    "#Just found out opencv has a thing called matchshapes.\n",
    "\n",
    "vowel_contours = {}\n",
    "\n",
    "for vowel, image in zip(vowels, images):\n",
    "    im = cv2.imread(image, cv2.IMREAD_GRAYSCALE)\n",
    "    _, thresh = cv2.threshold(im, 127, 255, 0)\n",
    "    contours, _ = cv2.findContours(thresh, 2, 1)\n",
    "    vowel_contours[vowel] = contours\n",
    "\n",
    "newim = cv2.imread(\"new_glyph.jpg\", cv2.IMREAD_GRAYSCALE)\n",
    "_, new_thresh = cv2.threshold(newim, 127,255,0)\n",
    "new_contours, _ = cv2.findContours(new_thresh,2,1)\n",
    "new_cnt = new_contours[2]\n",
    "\n",
    "#print(new_contours)\n",
    "\n",
    "contour_img = newim.copy()\n",
    "cv2.drawContours(contour_img, new_contours[2], -1, (0,255,0), 2)\n",
    "display_image(contour_img)\n",
    "\n",
    "best_match = None\n",
    "min_distance = float('inf')\n",
    "\n",
    "for vowel, contour, in vowel_contours.items():\n",
    "    cnt = contour[0]\n",
    "    ret = cv2.matchShapes(new_cnt, cnt,1,0.0)\n",
    "    print(f\"The distance between {vowel} and the glyph is {ret}.\")\n",
    "    if ret < min_distance:\n",
    "        min_distance = ret\n",
    "        best_match = vowel\n",
    "\n",
    "print(\"\")\n",
    "print(f\"The new glyph is closest to the vowel: {best_match}.\")\n",
    "\n",
    "#Not very reliable, unfortunately."
   ]
  },
  {
   "cell_type": "code",
   "execution_count": null,
   "metadata": {},
   "outputs": [],
   "source": []
  }
 ],
 "metadata": {
  "kernelspec": {
   "display_name": "humoments",
   "language": "python",
   "name": "python3"
  },
  "language_info": {
   "codemirror_mode": {
    "name": "ipython",
    "version": 3
   },
   "file_extension": ".py",
   "mimetype": "text/x-python",
   "name": "python",
   "nbconvert_exporter": "python",
   "pygments_lexer": "ipython3",
   "version": "3.10.12"
  }
 },
 "nbformat": 4,
 "nbformat_minor": 2
}
